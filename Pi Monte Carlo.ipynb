{
 "cells": [
  {
   "cell_type": "markdown",
   "id": "2c8fc009",
   "metadata": {},
   "source": [
    "# Calculating \\\\(\\pi \\\\) with Monte Carlo"
   ]
  },
  {
   "cell_type": "markdown",
   "id": "14aa7c8f",
   "metadata": {},
   "source": [
    "## Comparing the areas\n",
    "\n",
    "Area of the circle: \\\\( A_\\mathrm{circle} = \\pi r^2 = \\pi\\\\)\n",
    "\n",
    "Area of the square: \\\\( A_\\mathrm{square} = a^2 = 4 \\\\)\n",
    "\n",
    "This means \\\\( \\pi = 4\\frac{A_\\mathrm{circle}}{A_\\mathrm{square}}\\\\). We can use this ratio to estimate the value of \\\\( \\pi \\\\). "
   ]
  },
  {
   "cell_type": "code",
   "execution_count": 2,
   "id": "1b276d72",
   "metadata": {},
   "outputs": [],
   "source": [
    "import numpy as np\n",
    "import matplotlib.pyplot as plt \n",
    "import matplotlib.patches as patches"
   ]
  },
  {
   "cell_type": "code",
   "execution_count": 3,
   "id": "a9c43ef1",
   "metadata": {},
   "outputs": [
    {
     "data": {
      "text/plain": [
       "(-1.1, 1.1)"
      ]
     },
     "execution_count": 3,
     "metadata": {},
     "output_type": "execute_result"
    },
    {
     "data": {
      "image/png": "[encoded data removed]",
      "text/plain": [
       "<Figure size 640x480 with 1 Axes>"
      ]
     },
     "metadata": {},
     "output_type": "display_data"
    }
   ],
   "source": [
    "fig = plt.figure()\n",
    "ax = fig.add_subplot(111, aspect='equal')\n",
    "\n",
    "rectangle = patches.Rectangle((-1,-1),2,2, facecolor='red')\n",
    "ax.add_patch(rectangle)\n",
    "\n",
    "circle = patches.Circle((0,0),1, facecolor='none', edgecolor='blue')\n",
    "ax.add_patch(circle)\n",
    "\n",
    "plt.xlim([-1.1,1.1])\n",
    "plt.ylim([-1.1,1.1])"
   ]
  },
  {
   "cell_type": "code",
   "execution_count": 38,
   "id": "feb4c824",
   "metadata": {
    "scrolled": true
   },
   "outputs": [],
   "source": [
    "# randomly generating coordinate points\n",
    "\n",
    "points = 10000\n",
    "rand = 2*np.random.rand(2*points) -1\n",
    "\n",
    "randpoints = rand.reshape(points,2)"
   ]
  },
  {
   "cell_type": "code",
   "execution_count": 39,
   "id": "aa4702e7",
   "metadata": {},
   "outputs": [],
   "source": [
    "# norm value to decide whether coord is inside or outside circle\n",
    "\n",
    "normpoints_squared = randpoints[:,0]**2 + randpoints[:,1]**2"
   ]
  },
  {
   "cell_type": "code",
   "execution_count": 40,
   "id": "7129f4e1",
   "metadata": {},
   "outputs": [],
   "source": [
    "pointsOut = randpoints[normpoints_squared > 1]\n",
    "pointsIn = randpoints[normpoints_squared <= 1]"
   ]
  },
  {
   "cell_type": "code",
   "execution_count": 41,
   "id": "74c80279",
   "metadata": {},
   "outputs": [
    {
     "name": "stdout",
     "output_type": "stream",
     "text": [
      "3.1328\n"
     ]
    }
   ],
   "source": [
    "piapprox = 4 * len(pointsIn) / points\n",
    "print(piapprox)"
   ]
  },
  {
   "cell_type": "code",
   "execution_count": 42,
   "id": "3cb2622c",
   "metadata": {},
   "outputs": [
    {
     "data": {
      "text/plain": [
       "-0.008792653589793087"
      ]
     },
     "execution_count": 42,
     "metadata": {},
     "output_type": "execute_result"
    }
   ],
   "source": [
    "piapprox - np.pi"
   ]
  },
  {
   "cell_type": "markdown",
   "id": "be243d7b",
   "metadata": {},
   "source": [
    "### Alternative Loop method"
   ]
  },
  {
   "cell_type": "code",
   "execution_count": 43,
   "id": "11a314bf",
   "metadata": {},
   "outputs": [],
   "source": [
    "i = 0\n",
    "counter = 0\n",
    "\n",
    "while i < points:\n",
    "    if np.linalg.norm(2*np.random.rand(2)-1) < 1:\n",
    "        counter = counter + 1\n",
    "    i = i + 1"
   ]
  },
  {
   "cell_type": "code",
   "execution_count": 44,
   "id": "e9b7278d",
   "metadata": {},
   "outputs": [
    {
     "name": "stdout",
     "output_type": "stream",
     "text": [
      "3.1308\n"
     ]
    }
   ],
   "source": [
    "piapprox = 4*counter/points\n",
    "print(piapprox)"
   ]
  },
  {
   "cell_type": "code",
   "execution_count": 45,
   "id": "0fa11d1b",
   "metadata": {},
   "outputs": [
    {
     "data": {
      "text/plain": [
       "-0.01079265358979331"
      ]
     },
     "execution_count": 45,
     "metadata": {},
     "output_type": "execute_result"
    }
   ],
   "source": [
    "piapprox - np.pi"
   ]
  }
 ],
 "metadata": {
  "kernelspec": {
   "display_name": "Python 3 (ipykernel)",
   "language": "python",
   "name": "python3"
  },
  "language_info": {
   "codemirror_mode": {
    "name": "ipython",
    "version": 3
   },
   "file_extension": ".py",
   "mimetype": "text/x-python",
   "name": "python",
   "nbconvert_exporter": "python",
   "pygments_lexer": "ipython3",
   "version": "3.11.5"
  }
 },
 "nbformat": 4,
 "nbformat_minor": 5
}
